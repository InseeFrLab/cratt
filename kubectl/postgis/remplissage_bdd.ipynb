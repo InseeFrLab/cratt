{
 "cells": [
  {
   "cell_type": "code",
   "execution_count": 1,
   "metadata": {},
   "outputs": [],
   "source": [
    "import geopandas as gpd\n",
    "from sqlalchemy import create_engine"
   ]
  },
  {
   "cell_type": "code",
   "execution_count": 3,
   "metadata": {},
   "outputs": [
    {
     "name": "stdout",
     "output_type": "stream",
     "text": [
      "\u001b]11;?\u001b\\\u001b[6n"
     ]
    },
    {
     "name": "stdout",
     "output_type": "stream",
     "text": [
      "...ilots.gpkg: 43.32 MiB / 43.32 MiB ┃▓▓▓▓▓▓▓▓▓▓▓▓▓▓▓▓▓▓▓▓▓▓▓▓▓▓┃ 89.45 MiB/s 0s\u001b[0;22m\u001b[0m\u001b[m\u001b[32;1m\u001b[m\u001b[32;1m\u001b[m\u001b[32;1m\u001b[m\u001b[32;1m"
     ]
    }
   ],
   "source": [
    "! mc cp s3/projet-slums-detection/Stagios/stats_ilots.gpkg stats_ilots.gpkg"
   ]
  },
  {
   "cell_type": "code",
   "execution_count": null,
   "metadata": {},
   "outputs": [],
   "source": [
    "! pip install geopandas psycopg2-binary\n",
    "! pip install geoalchemy2"
   ]
  },
  {
   "cell_type": "code",
   "execution_count": 48,
   "metadata": {},
   "outputs": [],
   "source": [
    "user = 'cratt'\n",
    "password = 'cratt'\n",
    "host = '10.233.65.71'\n",
    "port = '5432'\n",
    "dbname = 'db_cratt'\n",
    "schema = 'public'  # ou un autre schéma si nécessaire\n",
    "\n",
    "connection_string = f'postgresql://{user}:{password}@{host}:{port}/{dbname}'\n",
    "engine = create_engine(connection_string)\n",
    "\n"
   ]
  },
  {
   "cell_type": "code",
   "execution_count": 35,
   "metadata": {},
   "outputs": [],
   "source": [
    "from sqlalchemy import create_engine, MetaData, Table, Column, Integer, Float, String, DateTime\n",
    "from sqlalchemy.ext.declarative import declarative_base\n",
    "from sqlalchemy.orm import sessionmaker\n",
    "from geoalchemy2 import Geometry\n",
    "import pandas as pd"
   ]
  },
  {
   "cell_type": "code",
   "execution_count": 55,
   "metadata": {},
   "outputs": [
    {
     "data": {
      "text/html": [
       "<div>\n",
       "<style scoped>\n",
       "    .dataframe tbody tr th:only-of-type {\n",
       "        vertical-align: middle;\n",
       "    }\n",
       "\n",
       "    .dataframe tbody tr th {\n",
       "        vertical-align: top;\n",
       "    }\n",
       "\n",
       "    .dataframe thead th {\n",
       "        text-align: right;\n",
       "    }\n",
       "</style>\n",
       "<table border=\"1\" class=\"dataframe\">\n",
       "  <thead>\n",
       "    <tr style=\"text-align: right;\">\n",
       "      <th></th>\n",
       "      <th>ident_ilot</th>\n",
       "      <th>aire_bati</th>\n",
       "      <th>aireplus</th>\n",
       "      <th>airemoins</th>\n",
       "      <th>airetotale</th>\n",
       "      <th>aire_bati_par_ilot</th>\n",
       "      <th>aire_plus_pct</th>\n",
       "      <th>aire_moins_pct</th>\n",
       "      <th>aire_totale_pct</th>\n",
       "      <th>area</th>\n",
       "      <th>geometry</th>\n",
       "    </tr>\n",
       "  </thead>\n",
       "  <tbody>\n",
       "    <tr>\n",
       "      <th>0</th>\n",
       "      <td>976110325</td>\n",
       "      <td>NaN</td>\n",
       "      <td>NaN</td>\n",
       "      <td>NaN</td>\n",
       "      <td>NaN</td>\n",
       "      <td>NaN</td>\n",
       "      <td>NaN</td>\n",
       "      <td>NaN</td>\n",
       "      <td>NaN</td>\n",
       "      <td>9061.011359</td>\n",
       "      <td>MULTIPOLYGON (((45.22039 -12.77447, 45.22018 -...</td>\n",
       "    </tr>\n",
       "    <tr>\n",
       "      <th>1</th>\n",
       "      <td>976110411</td>\n",
       "      <td>6.75</td>\n",
       "      <td>76.25</td>\n",
       "      <td>66.5</td>\n",
       "      <td>9.75</td>\n",
       "      <td>17472.5</td>\n",
       "      <td>0.4364</td>\n",
       "      <td>0.380598</td>\n",
       "      <td>0.055802</td>\n",
       "      <td>15622.671586</td>\n",
       "      <td>MULTIPOLYGON (((45.21049 -12.80063, 45.21077 -...</td>\n",
       "    </tr>\n",
       "  </tbody>\n",
       "</table>\n",
       "</div>"
      ],
      "text/plain": [
       "  ident_ilot  aire_bati  aireplus  airemoins  airetotale  aire_bati_par_ilot  \\\n",
       "0  976110325        NaN       NaN        NaN         NaN                 NaN   \n",
       "1  976110411       6.75     76.25       66.5        9.75             17472.5   \n",
       "\n",
       "   aire_plus_pct  aire_moins_pct  aire_totale_pct          area  \\\n",
       "0            NaN             NaN              NaN   9061.011359   \n",
       "1         0.4364        0.380598         0.055802  15622.671586   \n",
       "\n",
       "                                            geometry  \n",
       "0  MULTIPOLYGON (((45.22039 -12.77447, 45.22018 -...  \n",
       "1  MULTIPOLYGON (((45.21049 -12.80063, 45.21077 -...  "
      ]
     },
     "execution_count": 55,
     "metadata": {},
     "output_type": "execute_result"
    }
   ],
   "source": [
    "connection_string = f'postgresql://{user}:{password}@{host}:{port}/{dbname}'\n",
    "engine = create_engine(connection_string)\n",
    "\n",
    "gpkg_path = 'stats_ilots.gpkg'\n",
    "\n",
    "gdf = gpd.read_file(gpkg_path)\n",
    "\n",
    "gdf = gdf.to_crs(4326)\n",
    "gdf.head(2)"
   ]
  },
  {
   "cell_type": "code",
   "execution_count": null,
   "metadata": {},
   "outputs": [],
   "source": [
    "Session = sessionmaker(bind=engine)\n",
    "session = Session()\n",
    "Base = declarative_base()"
   ]
  },
  {
   "cell_type": "code",
   "execution_count": 56,
   "metadata": {},
   "outputs": [
    {
     "name": "stderr",
     "output_type": "stream",
     "text": [
      "/tmp/ipykernel_9777/2491835247.py:1: SAWarning: This declarative base already contains a class with the same class name and module name as __main__.GwWell, and will be replaced in the string-lookup table.\n",
      "  class GwWell(Base):\n"
     ]
    },
    {
     "data": {
      "text/plain": [
       "Table('stat_ilot', MetaData(), Column('ident_ilot', String(), table=<stat_ilot>, primary_key=True, nullable=False), Column('aire_bati', Float(), table=<stat_ilot>), Column('aireplus', Float(), table=<stat_ilot>), Column('airemoins', Float(), table=<stat_ilot>), Column('airetotale', Float(), table=<stat_ilot>), Column('aire_bati_par_ilot', Float(), table=<stat_ilot>), Column('aire_plus_pct', Float(), table=<stat_ilot>), Column('aire_moins_pct', Float(), table=<stat_ilot>), Column('aire_totale_pct', Float(), table=<stat_ilot>), Column('area', Float(), table=<stat_ilot>), Column('geom', Geometry(geometry_type='MULTIPOLYGON', srid=4326, from_text='ST_GeomFromEWKT', name='geometry'), table=<stat_ilot>), schema=None)"
      ]
     },
     "execution_count": 56,
     "metadata": {},
     "output_type": "execute_result"
    }
   ],
   "source": [
    "class GwWell(Base):\n",
    "    __tablename__ = 'stat_ilot'\n",
    "    ident_ilot = Column(String, primary_key=True)\n",
    "    aire_bati = Column(Float)\n",
    "    aireplus = Column(Float)\n",
    "    airemoins = Column(Float)\n",
    "    airetotale = Column(Float)\n",
    "    aire_bati_par_ilot = Column(Float)\n",
    "    aire_plus_pct =  Column(Float)\n",
    "    aire_moins_pct =  Column(Float)\n",
    "    aire_totale_pct =  Column(Float)\n",
    "    area =  Column(Float)\n",
    "    geom = Column(Geometry(geometry_type='MULTIPOLYGON', srid='4326'))\n",
    "\n",
    "GwWell.__table__.create(engine)\n",
    "GwWell.__table__"
   ]
  }
 ],
 "metadata": {
  "kernelspec": {
   "display_name": "base",
   "language": "python",
   "name": "python3"
  },
  "language_info": {
   "codemirror_mode": {
    "name": "ipython",
    "version": 3
   },
   "file_extension": ".py",
   "mimetype": "text/x-python",
   "name": "python",
   "nbconvert_exporter": "python",
   "pygments_lexer": "ipython3",
   "version": "3.11.6"
  }
 },
 "nbformat": 4,
 "nbformat_minor": 2
}
